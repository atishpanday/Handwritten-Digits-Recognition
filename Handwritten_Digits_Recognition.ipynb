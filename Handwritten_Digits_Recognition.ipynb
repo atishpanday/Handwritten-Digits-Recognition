{
  "nbformat": 4,
  "nbformat_minor": 0,
  "metadata": {
    "colab": {
      "name": "Handwritten_Digits_Recognition.ipynb",
      "provenance": [],
      "collapsed_sections": [],
      "mount_file_id": "1WTGAW3STgPeYPeg8wPqH2BnAz_WK3kbS",
      "authorship_tag": "ABX9TyNmiTdbmjibVvHC95nOHilv",
      "include_colab_link": true
    },
    "kernelspec": {
      "name": "python3",
      "display_name": "Python 3"
    }
  },
  "cells": [
    {
      "cell_type": "markdown",
      "metadata": {
        "id": "view-in-github",
        "colab_type": "text"
      },
      "source": [
        "<a href=\"https://colab.research.google.com/github/atishpanday/Handwritten-Digits-Recognition/blob/main/Handwritten_Digits_Recognition.ipynb\" target=\"_parent\"><img src=\"https://colab.research.google.com/assets/colab-badge.svg\" alt=\"Open In Colab\"/></a>"
      ]
    },
    {
      "cell_type": "code",
      "metadata": {
        "id": "TML5IxSK92mt"
      },
      "source": [
        "import tensorflow as tf\r\n",
        "from tensorflow.keras.models import Sequential\r\n",
        "from tensorflow.keras.layers import Dense, Dropout, Conv1D, Conv2D, GlobalAveragePooling2D, Flatten, Activation\r\n",
        "from sklearn.model_selection import train_test_split\r\n",
        "from tensorflow.keras.optimizers import Adam\r\n",
        "import numpy as np\r\n",
        "import matplotlib.pyplot as plt"
      ],
      "execution_count": 139,
      "outputs": []
    },
    {
      "cell_type": "code",
      "metadata": {
        "id": "jcvC9w6kvFTZ"
      },
      "source": [
        "input = []\r\n",
        "for i in range(10):\r\n",
        "  with open(\"/content/drive/MyDrive/handwritten_data/data{k}.txt\".format(k=i),\"rb\") as f:\r\n",
        "    data = f.read()\r\n",
        "    input.append(data)\r\n",
        "\r\n",
        "input_data = []\r\n",
        "for j in range(10):\r\n",
        "  i = 0\r\n",
        "  while (i<784000):\r\n",
        "    input_data.append(input[j][i:i+784])\r\n",
        "    i += 784\r\n",
        "\r\n",
        "for i in range(10000):\r\n",
        "  input_data[i] = np.frombuffer(input_data[i],dtype=np.ubyte)\r\n",
        "\r\n",
        "input_data = np.array(input_data,dtype=float)"
      ],
      "execution_count": 41,
      "outputs": []
    },
    {
      "cell_type": "code",
      "metadata": {
        "id": "XhW2TmQYU2-P"
      },
      "source": [
        "input_data = np.reshape(input_data,(10000,28,28,1))\r\n",
        "np.shape(input_data)\r\n",
        "\r\n",
        "labels = []\r\n",
        "for i in range(10):\r\n",
        "  for j in range(1000):\r\n",
        "    labels.append(np.zeros((10)))\r\n",
        "    labels[i*1000+j][i] = 1;\r\n",
        "\r\n",
        "labels = np.reshape(labels,(10000,10))"
      ],
      "execution_count": 255,
      "outputs": []
    },
    {
      "cell_type": "code",
      "metadata": {
        "id": "VWrmnUitppH6"
      },
      "source": [
        "x_train, x_test, y_train, y_test = train_test_split(input_data,labels,test_size = 0.2,shuffle=True)\r\n",
        "print(np.shape(x_train),np.shape(y_train),len(x_test),len(y_test))"
      ],
      "execution_count": 259,
      "outputs": []
    },
    {
      "cell_type": "code",
      "metadata": {
        "colab": {
          "base_uri": "https://localhost:8080/"
        },
        "id": "lfXhImQB0-C2",
        "outputId": "57a80aba-b15d-42d1-fe9e-18b53d681e18"
      },
      "source": [
        "model = Sequential()\r\n",
        "\r\n",
        "model.add(Conv2D(16,\r\n",
        "                 (3,3),\r\n",
        "                 padding = \"valid\",\r\n",
        "                 activation = \"linear\",\r\n",
        "                 strides = 1,\r\n",
        "                 data_format = \"channels_last\"))\r\n",
        "model.add(Activation(\"selu\"))\r\n",
        "model.add(Conv2D(16,\r\n",
        "                 (3,3),\r\n",
        "                 padding = \"valid\",\r\n",
        "                 activation = \"linear\",\r\n",
        "                 strides = 1))\r\n",
        "model.add(Activation(\"selu\"))\r\n",
        "model.add(Conv2D(8,\r\n",
        "                 (3,3),\r\n",
        "                 padding = \"valid\",\r\n",
        "                 activation = \"linear\",\r\n",
        "                 strides = 1))\r\n",
        "model.add(Activation(\"selu\"))\r\n",
        "model.add(GlobalAveragePooling2D())\r\n",
        "model.add(Dense(32, activation=\"selu\"))\r\n",
        "model.add(Dense(32, activation=\"selu\"))\r\n",
        "model.add(Dense(10, activation=\"softmax\"))\r\n",
        "adam = Adam(lr=0.001)\r\n",
        "model.compile(loss = \"binary_crossentropy\", optimizer = adam, metrics = [\"accuracy\"])\r\n",
        "\r\n",
        "history = model.fit(x_train, y_train, validation_data = (x_test, y_test), epochs = 50, batch_size = 16, verbose = 1, shuffle = True)"
      ],
      "execution_count": 266,
      "outputs": [
        {
          "output_type": "stream",
          "text": [
            "Epoch 1/50\n",
            "500/500 [==============================] - 11s 22ms/step - loss: 0.4934 - accuracy: 0.1992 - val_loss: 0.2083 - val_accuracy: 0.6435\n",
            "Epoch 2/50\n",
            "500/500 [==============================] - 11s 22ms/step - loss: 0.1904 - accuracy: 0.6527 - val_loss: 0.1574 - val_accuracy: 0.7310\n",
            "Epoch 3/50\n",
            "500/500 [==============================] - 11s 22ms/step - loss: 0.1491 - accuracy: 0.7294 - val_loss: 0.1293 - val_accuracy: 0.7815\n",
            "Epoch 4/50\n",
            "500/500 [==============================] - 11s 22ms/step - loss: 0.1152 - accuracy: 0.8132 - val_loss: 0.0899 - val_accuracy: 0.8670\n",
            "Epoch 5/50\n",
            "500/500 [==============================] - 11s 22ms/step - loss: 0.0780 - accuracy: 0.8783 - val_loss: 0.0841 - val_accuracy: 0.8665\n",
            "Epoch 6/50\n",
            "500/500 [==============================] - 11s 22ms/step - loss: 0.0651 - accuracy: 0.8948 - val_loss: 0.0560 - val_accuracy: 0.9190\n",
            "Epoch 7/50\n",
            "500/500 [==============================] - 11s 22ms/step - loss: 0.0566 - accuracy: 0.9119 - val_loss: 0.0532 - val_accuracy: 0.9190\n",
            "Epoch 8/50\n",
            "500/500 [==============================] - 11s 22ms/step - loss: 0.0520 - accuracy: 0.9196 - val_loss: 0.0478 - val_accuracy: 0.9225\n",
            "Epoch 9/50\n",
            "500/500 [==============================] - 11s 22ms/step - loss: 0.0472 - accuracy: 0.9206 - val_loss: 0.0573 - val_accuracy: 0.9080\n",
            "Epoch 10/50\n",
            "500/500 [==============================] - 11s 22ms/step - loss: 0.0439 - accuracy: 0.9263 - val_loss: 0.0420 - val_accuracy: 0.9335\n",
            "Epoch 11/50\n",
            "500/500 [==============================] - 11s 22ms/step - loss: 0.0422 - accuracy: 0.9347 - val_loss: 0.0555 - val_accuracy: 0.9155\n",
            "Epoch 12/50\n",
            "500/500 [==============================] - 11s 22ms/step - loss: 0.0416 - accuracy: 0.9305 - val_loss: 0.0396 - val_accuracy: 0.9330\n",
            "Epoch 13/50\n",
            "500/500 [==============================] - 11s 22ms/step - loss: 0.0364 - accuracy: 0.9422 - val_loss: 0.0437 - val_accuracy: 0.9285\n",
            "Epoch 14/50\n",
            "500/500 [==============================] - 11s 22ms/step - loss: 0.0341 - accuracy: 0.9451 - val_loss: 0.0379 - val_accuracy: 0.9375\n",
            "Epoch 15/50\n",
            "500/500 [==============================] - 11s 22ms/step - loss: 0.0332 - accuracy: 0.9477 - val_loss: 0.0411 - val_accuracy: 0.9380\n",
            "Epoch 16/50\n",
            "500/500 [==============================] - 11s 21ms/step - loss: 0.0317 - accuracy: 0.9512 - val_loss: 0.0447 - val_accuracy: 0.9235\n",
            "Epoch 17/50\n",
            "500/500 [==============================] - 11s 22ms/step - loss: 0.0312 - accuracy: 0.9526 - val_loss: 0.0349 - val_accuracy: 0.9420\n",
            "Epoch 18/50\n",
            "500/500 [==============================] - 11s 22ms/step - loss: 0.0327 - accuracy: 0.9462 - val_loss: 0.0364 - val_accuracy: 0.9440\n",
            "Epoch 19/50\n",
            "500/500 [==============================] - 11s 22ms/step - loss: 0.0280 - accuracy: 0.9572 - val_loss: 0.0384 - val_accuracy: 0.9430\n",
            "Epoch 20/50\n",
            "500/500 [==============================] - 11s 22ms/step - loss: 0.0300 - accuracy: 0.9512 - val_loss: 0.0344 - val_accuracy: 0.9410\n",
            "Epoch 21/50\n",
            "500/500 [==============================] - 11s 22ms/step - loss: 0.0280 - accuracy: 0.9550 - val_loss: 0.0317 - val_accuracy: 0.9510\n",
            "Epoch 22/50\n",
            "500/500 [==============================] - 11s 22ms/step - loss: 0.0250 - accuracy: 0.9611 - val_loss: 0.0392 - val_accuracy: 0.9375\n",
            "Epoch 23/50\n",
            "500/500 [==============================] - 11s 22ms/step - loss: 0.0283 - accuracy: 0.9535 - val_loss: 0.0354 - val_accuracy: 0.9420\n",
            "Epoch 24/50\n",
            "500/500 [==============================] - 11s 22ms/step - loss: 0.0226 - accuracy: 0.9633 - val_loss: 0.0316 - val_accuracy: 0.9500\n",
            "Epoch 25/50\n",
            "500/500 [==============================] - 11s 22ms/step - loss: 0.0231 - accuracy: 0.9633 - val_loss: 0.0315 - val_accuracy: 0.9525\n",
            "Epoch 26/50\n",
            "500/500 [==============================] - 11s 22ms/step - loss: 0.0242 - accuracy: 0.9599 - val_loss: 0.0368 - val_accuracy: 0.9405\n",
            "Epoch 27/50\n",
            "500/500 [==============================] - 11s 22ms/step - loss: 0.0223 - accuracy: 0.9618 - val_loss: 0.0291 - val_accuracy: 0.9570\n",
            "Epoch 28/50\n",
            "500/500 [==============================] - 11s 22ms/step - loss: 0.0199 - accuracy: 0.9665 - val_loss: 0.0354 - val_accuracy: 0.9470\n",
            "Epoch 29/50\n",
            "500/500 [==============================] - 11s 22ms/step - loss: 0.0219 - accuracy: 0.9628 - val_loss: 0.0367 - val_accuracy: 0.9415\n",
            "Epoch 30/50\n",
            "500/500 [==============================] - 11s 23ms/step - loss: 0.0214 - accuracy: 0.9656 - val_loss: 0.0396 - val_accuracy: 0.9455\n",
            "Epoch 31/50\n",
            "500/500 [==============================] - 11s 22ms/step - loss: 0.0199 - accuracy: 0.9675 - val_loss: 0.0307 - val_accuracy: 0.9525\n",
            "Epoch 32/50\n",
            "500/500 [==============================] - 11s 22ms/step - loss: 0.0195 - accuracy: 0.9714 - val_loss: 0.0308 - val_accuracy: 0.9515\n",
            "Epoch 33/50\n",
            "500/500 [==============================] - 11s 23ms/step - loss: 0.0171 - accuracy: 0.9721 - val_loss: 0.0329 - val_accuracy: 0.9470\n",
            "Epoch 34/50\n",
            "500/500 [==============================] - 11s 23ms/step - loss: 0.0160 - accuracy: 0.9747 - val_loss: 0.0381 - val_accuracy: 0.9445\n",
            "Epoch 35/50\n",
            "500/500 [==============================] - 11s 22ms/step - loss: 0.0192 - accuracy: 0.9661 - val_loss: 0.0370 - val_accuracy: 0.9455\n",
            "Epoch 36/50\n",
            "500/500 [==============================] - 11s 22ms/step - loss: 0.0177 - accuracy: 0.9691 - val_loss: 0.0271 - val_accuracy: 0.9605\n",
            "Epoch 37/50\n",
            "500/500 [==============================] - 11s 22ms/step - loss: 0.0153 - accuracy: 0.9749 - val_loss: 0.0306 - val_accuracy: 0.9550\n",
            "Epoch 38/50\n",
            "500/500 [==============================] - 11s 23ms/step - loss: 0.0173 - accuracy: 0.9728 - val_loss: 0.0291 - val_accuracy: 0.9565\n",
            "Epoch 39/50\n",
            "500/500 [==============================] - 11s 23ms/step - loss: 0.0154 - accuracy: 0.9754 - val_loss: 0.0301 - val_accuracy: 0.9580\n",
            "Epoch 40/50\n",
            "500/500 [==============================] - 11s 22ms/step - loss: 0.0152 - accuracy: 0.9772 - val_loss: 0.0290 - val_accuracy: 0.9580\n",
            "Epoch 41/50\n",
            "500/500 [==============================] - 11s 22ms/step - loss: 0.0131 - accuracy: 0.9808 - val_loss: 0.0280 - val_accuracy: 0.9615\n",
            "Epoch 42/50\n",
            "500/500 [==============================] - 11s 22ms/step - loss: 0.0129 - accuracy: 0.9783 - val_loss: 0.0302 - val_accuracy: 0.9565\n",
            "Epoch 43/50\n",
            "500/500 [==============================] - 11s 22ms/step - loss: 0.0150 - accuracy: 0.9767 - val_loss: 0.0382 - val_accuracy: 0.9455\n",
            "Epoch 44/50\n",
            "500/500 [==============================] - 11s 22ms/step - loss: 0.0154 - accuracy: 0.9738 - val_loss: 0.0307 - val_accuracy: 0.9555\n",
            "Epoch 45/50\n",
            "500/500 [==============================] - 11s 22ms/step - loss: 0.0129 - accuracy: 0.9794 - val_loss: 0.0345 - val_accuracy: 0.9490\n",
            "Epoch 46/50\n",
            "500/500 [==============================] - 11s 22ms/step - loss: 0.0146 - accuracy: 0.9770 - val_loss: 0.0318 - val_accuracy: 0.9530\n",
            "Epoch 47/50\n",
            "500/500 [==============================] - 11s 23ms/step - loss: 0.0137 - accuracy: 0.9788 - val_loss: 0.0269 - val_accuracy: 0.9635\n",
            "Epoch 48/50\n",
            "500/500 [==============================] - 11s 22ms/step - loss: 0.0116 - accuracy: 0.9809 - val_loss: 0.0362 - val_accuracy: 0.9460\n",
            "Epoch 49/50\n",
            "500/500 [==============================] - 11s 22ms/step - loss: 0.0150 - accuracy: 0.9761 - val_loss: 0.0361 - val_accuracy: 0.9480\n",
            "Epoch 50/50\n",
            "500/500 [==============================] - 11s 23ms/step - loss: 0.0120 - accuracy: 0.9835 - val_loss: 0.0301 - val_accuracy: 0.9595\n"
          ],
          "name": "stdout"
        }
      ]
    },
    {
      "cell_type": "code",
      "metadata": {
        "colab": {
          "base_uri": "https://localhost:8080/",
          "height": 300
        },
        "id": "DtAqP5BQZsMG",
        "outputId": "a23b2a06-e097-4025-d5fa-d7e376e380af"
      },
      "source": [
        "plt.plot(np.arange(50),history.history['val_accuracy'],history.history['accuracy'])"
      ],
      "execution_count": 270,
      "outputs": [
        {
          "output_type": "execute_result",
          "data": {
            "text/plain": [
              "[<matplotlib.lines.Line2D at 0x7f3fc99f96a0>,\n",
              " <matplotlib.lines.Line2D at 0x7f3fc99f97b8>]"
            ]
          },
          "metadata": {
            "tags": []
          },
          "execution_count": 270
        },
        {
          "output_type": "display_data",
          "data": {
            "image/png": "[encoded data removed]",
            "text/plain": [
              "<Figure size 432x288 with 1 Axes>"
            ]
          },
          "metadata": {
            "tags": [],
            "needs_background": "light"
          }
        }
      ]
    }
  ]
}